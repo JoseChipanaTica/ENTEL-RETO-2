{
 "metadata": {
  "kernelspec": {
   "language": "python",
   "display_name": "Python 3",
   "name": "python3"
  },
  "language_info": {
   "name": "python",
   "version": "3.7.12",
   "mimetype": "text/x-python",
   "codemirror_mode": {
    "name": "ipython",
    "version": 3
   },
   "pygments_lexer": "ipython3",
   "nbconvert_exporter": "python",
   "file_extension": ".py"
  }
 },
 "nbformat_minor": 4,
 "nbformat": 4,
 "cells": [
  {
   "cell_type": "code",
   "source": [
    "import numpy as np\n",
    "import pandas as pd\n",
    "\n",
    "from warnings import filterwarnings\n",
    "\n",
    "import tensorflow as tf\n",
    "from tensorflow import keras\n",
    "from tensorflow.keras.callbacks import EarlyStopping\n",
    "from tensorflow.keras.callbacks import LearningRateScheduler\n",
    "from tensorflow.keras.optimizers.schedules import ExponentialDecay\n",
    "\n",
    "from sklearn.metrics import mean_squared_error\n",
    "from sklearn.preprocessing import RobustScaler, normalize, LabelEncoder, StandardScaler, MinMaxScaler, RobustScaler\n",
    "from sklearn.model_selection import GroupKFold, KFold, StratifiedKFold\n",
    "\n",
    "filterwarnings('ignore')"
   ],
   "metadata": {
    "_uuid": "8f2839f25d086af736a60e9eeb907d3b93b6e0e5",
    "_cell_guid": "b1076dfc-b9ad-4769-8c92-a6c4dae69d19",
    "execution": {
     "iopub.status.busy": "2022-08-15T01:11:11.760303Z",
     "iopub.execute_input": "2022-08-15T01:11:11.760734Z",
     "iopub.status.idle": "2022-08-15T01:11:11.768445Z",
     "shell.execute_reply.started": "2022-08-15T01:11:11.760699Z",
     "shell.execute_reply": "2022-08-15T01:11:11.767373Z"
    },
    "trusted": true,
    "pycharm": {
     "name": "#%%\n"
    }
   },
   "execution_count": 73,
   "outputs": []
  },
  {
   "cell_type": "code",
   "source": [
    "CONFIG = {\n",
    "    'TRAIN_PATH': '/kaggle/input/datathon-entel-2022-reto2/train.csv',\n",
    "    'TEST_PATH': '/kaggle/input/datathon-entel-2022-reto2/test.csv',\n",
    "    'SAMPLE_SUBMISSION': '/kaggle/input/datathon-entel-2022-reto2/test_sample.csv'\n",
    "}\n",
    "\n",
    "df_train = pd.read_csv(CONFIG['TRAIN_PATH'])\n",
    "df_test = pd.read_csv(CONFIG['TEST_PATH'])\n",
    "df_sub = pd.read_csv(CONFIG['SAMPLE_SUBMISSION'])"
   ],
   "metadata": {
    "execution": {
     "iopub.status.busy": "2022-08-15T01:11:11.823514Z",
     "iopub.execute_input": "2022-08-15T01:11:11.824433Z",
     "iopub.status.idle": "2022-08-15T01:11:13.530365Z",
     "shell.execute_reply.started": "2022-08-15T01:11:11.824395Z",
     "shell.execute_reply": "2022-08-15T01:11:13.529190Z"
    },
    "trusted": true,
    "pycharm": {
     "name": "#%%\n"
    }
   },
   "execution_count": 74,
   "outputs": []
  },
  {
   "cell_type": "code",
   "source": [
    "n = 40\n",
    "x_base = 100"
   ],
   "metadata": {
    "execution": {
     "iopub.status.busy": "2022-08-15T01:11:13.532625Z",
     "iopub.execute_input": "2022-08-15T01:11:13.532975Z",
     "iopub.status.idle": "2022-08-15T01:11:13.537972Z",
     "shell.execute_reply.started": "2022-08-15T01:11:13.532943Z",
     "shell.execute_reply": "2022-08-15T01:11:13.536849Z"
    },
    "trusted": true,
    "pycharm": {
     "name": "#%%\n"
    }
   },
   "execution_count": 75,
   "outputs": []
  },
  {
   "cell_type": "code",
   "source": [
    "def vol_col(x):\n",
    "    return np.sqrt(np.log(x).stack().apply(lambda x: x if str(x) != '-inf' else 0).unstack(level=1)).sum().to_dict()\n",
    "\n",
    "def vol(x):\n",
    "    return np.sqrt(np.log(x).stack().apply(lambda x: x if str(x) != '-inf' else 0).unstack(level=1)).sum().fillna(0)"
   ],
   "metadata": {
    "execution": {
     "iopub.status.busy": "2022-08-15T01:11:13.539363Z",
     "iopub.execute_input": "2022-08-15T01:11:13.540376Z",
     "iopub.status.idle": "2022-08-15T01:11:13.548474Z",
     "shell.execute_reply.started": "2022-08-15T01:11:13.540333Z",
     "shell.execute_reply": "2022-08-15T01:11:13.547631Z"
    },
    "trusted": true,
    "pycharm": {
     "name": "#%%\n"
    }
   },
   "execution_count": 76,
   "outputs": []
  },
  {
   "cell_type": "code",
   "source": [
    "def featuring(df):\n",
    "    df = pd.concat([df_train.iloc[:, :5], df], axis=1)\n",
    "        \n",
    "    df_z_punto_venta = df.groupby(['Z_PUNTO_VENTA'])[df.iloc[:, 5:].columns].transform('max')\n",
    "    df_z_modelo = df.groupby(['Z_MODELO'])[df.iloc[:, 5:].columns].transform('max')\n",
    "    df_z_gama = df.groupby(['Z_GAMA'])[df.iloc[:, 5:].columns].transform('max')\n",
    "    df_z_marca = df.groupby(['Z_MARCA'])[df.iloc[:, 5:].columns].transform('max')\n",
    "    df_z_departamento = df.groupby(['Z_DEPARTAMENTO'])[df.iloc[:, 5:].columns].transform('max')\n",
    "    \n",
    "    df_z_s_punto_venta = df.groupby(['Z_PUNTO_VENTA'])[df.iloc[:, 5:].columns].transform('sum')\n",
    "    df_z_s_modelo = df.groupby(['Z_MODELO'])[df.iloc[:, 5:].columns].transform('sum')\n",
    "    df_z_s_gama = df.groupby(['Z_GAMA'])[df.iloc[:, 5:].columns].transform('sum')\n",
    "    df_z_s_marca = df.groupby(['Z_MARCA'])[df.iloc[:, 5:].columns].transform('sum')\n",
    "    df_z_s_departamento = df.groupby(['Z_DEPARTAMENTO'])[df.iloc[:, 5:].columns].transform('sum')\n",
    "    \n",
    "    df_b_punto_venta = df['Z_PUNTO_VENTA'].apply(lambda x: 1 if x in \n",
    "                                                     ['da45328ba820604eb99694768f2a430cd933d161601dcb8491b4a9b555232c59',\n",
    "                                                      'e1f2d2708f545ddc1d7266ba0cc5ccc88147b77fdf3450e68a974e93018ecf60'] else 0)\n",
    "    df_b_departameto = df['Z_DEPARTAMENTO'].apply(lambda x: 1 if x  in \n",
    "                                                    ['d6c21b948958417ca98b682a573eb8aa1084b292d32f760f253ef53da13e5589'] else 0)\n",
    "    \n",
    "    Z_MARCA = df['Z_MARCA'].replace(df['Z_MARCA'].value_counts(normalize=True).to_dict())\n",
    "    Z_GAMA = df['Z_GAMA'].replace(df['Z_GAMA'].value_counts(normalize=True).to_dict())\n",
    "    Z_MODELO = df['Z_MODELO'].replace(df['Z_MODELO'].value_counts(normalize=True).to_dict())\n",
    "    Z_DEPARTAMENTO = df['Z_DEPARTAMENTO'].replace(df['Z_DEPARTAMENTO'].value_counts(normalize=True).to_dict())\n",
    "    Z_PUNTO_VENTA = df['Z_PUNTO_VENTA'].replace(df['Z_PUNTO_VENTA'].value_counts(normalize=True).to_dict())\n",
    "    \n",
    "    df_max = df.iloc[:, 5:].max(axis=1)\n",
    "    df_sum = df.iloc[:, 5:].sum(axis=1)\n",
    "    df_std = df.iloc[:, 5:].std(axis=1)\n",
    "    df_mean = df.iloc[:, 5:].mean(axis=1)\n",
    "        \n",
    "    df_total= df_sum.apply(lambda x: 1 if x > 0 else 0)\n",
    "    df_count = df.iloc[:, 5:].stack().apply(lambda x: x if x > 0 else np.nan).unstack(level=1).count(axis=1)\n",
    "    \n",
    "    features = df.iloc[:, 5:].stack().apply(lambda x: x if x < x_base else x_base).unstack(level=1)\n",
    "    \n",
    "    df_z = pd.concat([\n",
    "        features,\n",
    "        df_z_punto_venta,\n",
    "        df_z_modelo, \n",
    "        df_z_gama,\n",
    "        df_z_marca,\n",
    "        df_z_departamento,\n",
    "                      \n",
    "        df_z_s_punto_venta,\n",
    "        df_z_s_modelo,\n",
    "        df_z_s_gama,\n",
    "        df_z_s_marca,\n",
    "        df_z_s_departamento,\n",
    "        \n",
    "        df_b_punto_venta,\n",
    "        df_b_departameto,\n",
    "                      \n",
    "        Z_MARCA,\n",
    "        Z_GAMA,\n",
    "        Z_MODELO,\n",
    "        Z_DEPARTAMENTO,\n",
    "        Z_PUNTO_VENTA,\n",
    "                      \n",
    "        df_max,\n",
    "        df_sum,\n",
    "        df_std,\n",
    "        df_mean,\n",
    "                      \n",
    "        df_total,\n",
    "        df_count\n",
    "\n",
    "    ], axis=1).T.reset_index(drop=True).T\n",
    "    \n",
    "    return df_z"
   ],
   "metadata": {
    "execution": {
     "iopub.status.busy": "2022-08-15T01:11:13.550194Z",
     "iopub.execute_input": "2022-08-15T01:11:13.550831Z",
     "iopub.status.idle": "2022-08-15T01:11:13.572903Z",
     "shell.execute_reply.started": "2022-08-15T01:11:13.550786Z",
     "shell.execute_reply": "2022-08-15T01:11:13.571693Z"
    },
    "trusted": true,
    "pycharm": {
     "name": "#%%\n"
    }
   },
   "execution_count": 77,
   "outputs": []
  },
  {
   "cell_type": "code",
   "source": [
    "x_train = featuring(df_train.iloc[:, 5:45])\n",
    "y_train = df_train.iloc[:, 45:55]\n",
    "\n",
    "x_test = featuring(df_train.iloc[:, 15:55])"
   ],
   "metadata": {
    "execution": {
     "iopub.status.busy": "2022-08-15T01:11:13.576674Z",
     "iopub.execute_input": "2022-08-15T01:11:13.577490Z",
     "iopub.status.idle": "2022-08-15T01:11:22.337777Z",
     "shell.execute_reply.started": "2022-08-15T01:11:13.577455Z",
     "shell.execute_reply": "2022-08-15T01:11:22.336556Z"
    },
    "trusted": true,
    "pycharm": {
     "name": "#%%\n"
    }
   },
   "execution_count": 78,
   "outputs": []
  },
  {
   "cell_type": "code",
   "source": [
    "print(f'X TRAIN SHAPE: {x_train.shape}')\n",
    "print(f'Y TRAIN SHAPE: {y_train.shape}')\n",
    "print(f'X TEST SHAPE: {x_test.shape}')"
   ],
   "metadata": {
    "execution": {
     "iopub.status.busy": "2022-08-15T01:11:22.339287Z",
     "iopub.execute_input": "2022-08-15T01:11:22.339981Z",
     "iopub.status.idle": "2022-08-15T01:11:22.348397Z",
     "shell.execute_reply.started": "2022-08-15T01:11:22.339936Z",
     "shell.execute_reply": "2022-08-15T01:11:22.347125Z"
    },
    "trusted": true,
    "pycharm": {
     "name": "#%%\n"
    }
   },
   "execution_count": 79,
   "outputs": []
  },
  {
   "cell_type": "code",
   "source": [
    "def data_sequence_to_models():\n",
    "    \n",
    "    correlated_features = set()\n",
    "    correlation_matrix = x_train.corr()\n",
    "\n",
    "    for i in range(len(correlation_matrix .columns)):\n",
    "        for j in range(i):\n",
    "            if abs(correlation_matrix.iloc[i, j]) > 0.95:\n",
    "                colname = correlation_matrix.columns[i]\n",
    "                correlated_features.add(colname)\n",
    "                \n",
    "    x_train_model = x_train.drop(labels=correlated_features, axis=1)\n",
    "    x_test_model = x_test.drop(labels=correlated_features, axis=1)\n",
    "\n",
    "    print(f'TRAIN SHAPE: {x_train_model.shape}')\n",
    "    \n",
    "    sc = RobustScaler()\n",
    "    _x_train = sc.fit_transform(x_train_model)\n",
    "    _x_test = sc.transform(x_test_model)\n",
    "    \n",
    "    return _x_train, _x_test"
   ],
   "metadata": {
    "execution": {
     "iopub.status.busy": "2022-08-15T01:11:22.349774Z",
     "iopub.execute_input": "2022-08-15T01:11:22.350102Z",
     "iopub.status.idle": "2022-08-15T01:11:22.359552Z",
     "shell.execute_reply.started": "2022-08-15T01:11:22.350074Z",
     "shell.execute_reply": "2022-08-15T01:11:22.358408Z"
    },
    "trusted": true,
    "pycharm": {
     "name": "#%%\n"
    }
   },
   "execution_count": 80,
   "outputs": []
  },
  {
   "cell_type": "code",
   "source": [
    "x_train_data, x_test_data = data_sequence_to_models()\n",
    "\n",
    "y_train = y_train.stack().apply(lambda x: x if x < x_base else x_base).unstack(level=1).values"
   ],
   "metadata": {
    "execution": {
     "iopub.status.busy": "2022-08-15T01:11:22.361084Z",
     "iopub.execute_input": "2022-08-15T01:11:22.361627Z",
     "iopub.status.idle": "2022-08-15T01:11:52.110685Z",
     "shell.execute_reply.started": "2022-08-15T01:11:22.361570Z",
     "shell.execute_reply": "2022-08-15T01:11:52.109407Z"
    },
    "trusted": true,
    "pycharm": {
     "name": "#%%\n"
    }
   },
   "execution_count": 81,
   "outputs": []
  },
  {
   "cell_type": "code",
   "source": [
    "def MLP(l_extras_features):\n",
    "    \n",
    "    tabular = keras.layers.Input(shape=l_extras_features)\n",
    "\n",
    "    for n_hidden in [1024, 512, 256, 128, 64, 32]:\n",
    "        out_tabular = keras.layers.Dense(n_hidden, activation='linear')(tabular)\n",
    "        out_tabular = keras.layers.BatchNormalization()(out_tabular)\n",
    "        out_tabular = keras.layers.Dropout(0.2)(out_tabular)\n",
    "\n",
    "    out = keras.layers.Dense(10, activation='relu')(out_tabular)\n",
    "\n",
    "    model = keras.Model(inputs = [tabular], outputs = out)\n",
    "\n",
    "    mse = tf.keras.losses.MeanSquaredError()\n",
    "    rmse = tf.keras.metrics.RootMeanSquaredError()\n",
    "    model.compile(optimizer=keras.optimizers.Adam(learning_rate=0.0004), loss=mse, metrics=[rmse])\n",
    "\n",
    "    return model"
   ],
   "metadata": {
    "execution": {
     "iopub.status.busy": "2022-08-15T01:11:52.112463Z",
     "iopub.execute_input": "2022-08-15T01:11:52.112841Z",
     "iopub.status.idle": "2022-08-15T01:11:52.120984Z",
     "shell.execute_reply.started": "2022-08-15T01:11:52.112806Z",
     "shell.execute_reply": "2022-08-15T01:11:52.119840Z"
    },
    "trusted": true,
    "pycharm": {
     "name": "#%%\n"
    }
   },
   "execution_count": 82,
   "outputs": []
  },
  {
   "cell_type": "code",
   "source": [
    "def training_MLP():\n",
    "\n",
    "    EPOCH = 1000\n",
    "    BATCH_SIZE = 512\n",
    "\n",
    "    models = []\n",
    "\n",
    "    kf = KFold(n_splits=5, shuffle=True, random_state=2022)\n",
    "\n",
    "    for fold, (train_idx, val_idx) in enumerate(kf.split(x_train_data, y_train)):\n",
    "\n",
    "        print('-'*15, '>', f'Fold {fold+1}', '<', '-'*15)\n",
    "\n",
    "        X_train, X_valid = x_train_data[train_idx], x_train_data[val_idx]\n",
    "                        \n",
    "        Y_train, Y_valid = y_train[train_idx], y_train[val_idx]\n",
    "\n",
    "        l_ext = X_train.shape[-1]\n",
    "\n",
    "        model = MLP(l_ext)\n",
    "\n",
    "        es = keras.callbacks.EarlyStopping(monitor='val_root_mean_squared_error', \n",
    "                                           min_delta=1e-05,\n",
    "                                           patience=30,\n",
    "                                           verbose=1, \n",
    "                                           mode='min', \n",
    "                                           restore_best_weights=True)\n",
    "        plateau = keras.callbacks.ReduceLROnPlateau(monitor='val_root_mean_squared_error',\n",
    "                                                    factor=0.1,\n",
    "                                                    patience=10,\n",
    "                                                    verbose=1,\n",
    "                                                    min_lr=5e-7, \n",
    "                                                    mode='min')\n",
    "\n",
    "        model.fit([X_train], Y_train,\n",
    "                  validation_data=([X_valid], Y_valid),\n",
    "                  epochs=EPOCH,\n",
    "                  batch_size=BATCH_SIZE,\n",
    "                  callbacks = [es, plateau],\n",
    "                  verbose=1)\n",
    "\n",
    "        eval_model(model, [X_valid], Y_valid)\n",
    "\n",
    "        models.append(model)\n",
    "\n",
    "    return models\n",
    "\n",
    "def eval_model(model, x_valid, y_valid):\n",
    "    preds = pd.DataFrame(np.round(model.predict(x_valid)).astype('int32')).stack().reset_index(drop=True)\n",
    "    y_valid = pd.DataFrame(y_valid).stack().reset_index(drop=True)\n",
    "    print(f' RMSE --> {mean_squared_error(y_valid, preds, squared=False)}')"
   ],
   "metadata": {
    "execution": {
     "iopub.status.busy": "2022-08-15T01:11:52.122887Z",
     "iopub.execute_input": "2022-08-15T01:11:52.123842Z",
     "iopub.status.idle": "2022-08-15T01:11:52.135806Z",
     "shell.execute_reply.started": "2022-08-15T01:11:52.123807Z",
     "shell.execute_reply": "2022-08-15T01:11:52.134734Z"
    },
    "trusted": true,
    "pycharm": {
     "name": "#%%\n"
    }
   },
   "execution_count": 83,
   "outputs": []
  },
  {
   "cell_type": "code",
   "source": [
    "models = training_MLP()"
   ],
   "metadata": {
    "execution": {
     "iopub.status.busy": "2022-08-15T01:11:52.137273Z",
     "iopub.execute_input": "2022-08-15T01:11:52.138771Z",
     "iopub.status.idle": "2022-08-15T01:14:03.598887Z",
     "shell.execute_reply.started": "2022-08-15T01:11:52.138735Z",
     "shell.execute_reply": "2022-08-15T01:14:03.597680Z"
    },
    "trusted": true,
    "pycharm": {
     "name": "#%%\n"
    }
   },
   "execution_count": 84,
   "outputs": []
  },
  {
   "cell_type": "code",
   "source": [
    "preds_MLP_40 = []\n",
    "\n",
    "for model in models:\n",
    "    _pred = model.predict([x_test_data])\n",
    "    preds_MLP_40.append(_pred)\n",
    "    \n",
    "pred_sub_MLP_40 = (preds_MLP_40[0] + preds_MLP_40[1] + preds_MLP_40[2] + preds_MLP_40[3] + preds_MLP_40[4]) / 5"
   ],
   "metadata": {
    "execution": {
     "iopub.status.busy": "2022-08-15T01:14:03.602738Z",
     "iopub.execute_input": "2022-08-15T01:14:03.603077Z",
     "iopub.status.idle": "2022-08-15T01:14:09.974220Z",
     "shell.execute_reply.started": "2022-08-15T01:14:03.603046Z",
     "shell.execute_reply": "2022-08-15T01:14:09.973047Z"
    },
    "trusted": true,
    "pycharm": {
     "name": "#%%\n"
    }
   },
   "execution_count": 85,
   "outputs": []
  },
  {
   "cell_type": "markdown",
   "source": [
    "# MODELO EN 20 SEMANAS"
   ],
   "metadata": {
    "pycharm": {
     "name": "#%% md\n"
    }
   }
  },
  {
   "cell_type": "code",
   "source": [
    "n = 20"
   ],
   "metadata": {
    "execution": {
     "iopub.status.busy": "2022-08-15T01:14:09.975879Z",
     "iopub.execute_input": "2022-08-15T01:14:09.976272Z",
     "iopub.status.idle": "2022-08-15T01:14:09.980763Z",
     "shell.execute_reply.started": "2022-08-15T01:14:09.976230Z",
     "shell.execute_reply": "2022-08-15T01:14:09.979680Z"
    },
    "trusted": true,
    "pycharm": {
     "name": "#%%\n"
    }
   },
   "execution_count": 86,
   "outputs": []
  },
  {
   "cell_type": "code",
   "source": [
    "x_train = pd.concat([\n",
    "    featuring(df_train.iloc[:, 5:25]),\n",
    "    featuring(df_train.iloc[:, 15:35]),\n",
    "    featuring(df_train.iloc[:, 25:45]),\n",
    "], axis=0).reset_index(drop=True)\n",
    "\n",
    "y_train = pd.concat([\n",
    "    pd.DataFrame(df_train.iloc[:, 25:35].values),\n",
    "    pd.DataFrame(df_train.iloc[:, 35:45].values),\n",
    "    pd.DataFrame(df_train.iloc[:, 45:55].values),\n",
    "], axis=0).reset_index(drop=True)\n",
    "\n",
    "\n",
    "x_test = featuring(df_train.iloc[:, 35:55])"
   ],
   "metadata": {
    "execution": {
     "iopub.status.busy": "2022-08-15T01:14:09.986782Z",
     "iopub.execute_input": "2022-08-15T01:14:09.987457Z",
     "iopub.status.idle": "2022-08-15T01:14:21.696297Z",
     "shell.execute_reply.started": "2022-08-15T01:14:09.987413Z",
     "shell.execute_reply": "2022-08-15T01:14:21.695055Z"
    },
    "trusted": true,
    "pycharm": {
     "name": "#%%\n"
    }
   },
   "execution_count": 87,
   "outputs": []
  },
  {
   "cell_type": "code",
   "source": [
    "print(f'X TRAIN SHAPE: {x_train.shape}')\n",
    "print(f'Y TRAIN SHAPE: {y_train.shape}')\n",
    "print(f'X TEST SHAPE: {x_test.shape}')"
   ],
   "metadata": {
    "execution": {
     "iopub.status.busy": "2022-08-15T01:14:21.697646Z",
     "iopub.execute_input": "2022-08-15T01:14:21.697987Z",
     "iopub.status.idle": "2022-08-15T01:14:21.704210Z",
     "shell.execute_reply.started": "2022-08-15T01:14:21.697949Z",
     "shell.execute_reply": "2022-08-15T01:14:21.703026Z"
    },
    "trusted": true,
    "pycharm": {
     "name": "#%%\n"
    }
   },
   "execution_count": 88,
   "outputs": []
  },
  {
   "cell_type": "code",
   "source": [
    "x_train_data, x_test_data = data_sequence_to_models()\n",
    "\n",
    "y_train = y_train.stack().apply(lambda x: x if x < x_base else x_base).unstack(level=1).values"
   ],
   "metadata": {
    "execution": {
     "iopub.status.busy": "2022-08-15T01:14:21.705571Z",
     "iopub.execute_input": "2022-08-15T01:14:21.705892Z",
     "iopub.status.idle": "2022-08-15T01:14:44.509498Z",
     "shell.execute_reply.started": "2022-08-15T01:14:21.705864Z",
     "shell.execute_reply": "2022-08-15T01:14:44.508449Z"
    },
    "trusted": true,
    "pycharm": {
     "name": "#%%\n"
    }
   },
   "execution_count": 89,
   "outputs": []
  },
  {
   "cell_type": "code",
   "source": [
    "print(f'X TRAIN SHAPE: {x_train_data.shape}')\n",
    "print(f'Y TRAIN SHAPE: {y_train.shape}')\n",
    "print(f'X TEST SHAPE: {x_test_data.shape}')"
   ],
   "metadata": {
    "execution": {
     "iopub.status.busy": "2022-08-15T01:14:44.512641Z",
     "iopub.execute_input": "2022-08-15T01:14:44.513072Z",
     "iopub.status.idle": "2022-08-15T01:14:44.519118Z",
     "shell.execute_reply.started": "2022-08-15T01:14:44.513030Z",
     "shell.execute_reply": "2022-08-15T01:14:44.518053Z"
    },
    "trusted": true,
    "pycharm": {
     "name": "#%%\n"
    }
   },
   "execution_count": 90,
   "outputs": []
  },
  {
   "cell_type": "code",
   "source": [
    "models_MLP_20 = training_MLP()"
   ],
   "metadata": {
    "execution": {
     "iopub.status.busy": "2022-08-15T01:14:44.520839Z",
     "iopub.execute_input": "2022-08-15T01:14:44.521560Z",
     "iopub.status.idle": "2022-08-15T01:23:17.199877Z",
     "shell.execute_reply.started": "2022-08-15T01:14:44.521529Z",
     "shell.execute_reply": "2022-08-15T01:23:17.198596Z"
    },
    "trusted": true,
    "pycharm": {
     "name": "#%%\n"
    }
   },
   "execution_count": 91,
   "outputs": []
  },
  {
   "cell_type": "code",
   "source": [
    "preds_MLP_20 = []\n",
    "\n",
    "for model in models_MLP_20:\n",
    "    _pred = model.predict([x_test_data])\n",
    "    preds_MLP_20.append(_pred)\n",
    "    \n",
    "pred_sub_MLP_20 = (preds_MLP_20[0] + preds_MLP_20[1] + preds_MLP_20[2] + preds_MLP_20[3] + preds_MLP_20[4]) / 5"
   ],
   "metadata": {
    "execution": {
     "iopub.status.busy": "2022-08-15T01:23:17.201592Z",
     "iopub.execute_input": "2022-08-15T01:23:17.202045Z",
     "iopub.status.idle": "2022-08-15T01:23:23.659815Z",
     "shell.execute_reply.started": "2022-08-15T01:23:17.202001Z",
     "shell.execute_reply": "2022-08-15T01:23:23.658667Z"
    },
    "trusted": true,
    "pycharm": {
     "name": "#%%\n"
    }
   },
   "execution_count": 92,
   "outputs": []
  },
  {
   "cell_type": "markdown",
   "source": [
    "# MODELO BASADO EN 10 SEMANAS"
   ],
   "metadata": {
    "pycharm": {
     "name": "#%% md\n"
    }
   }
  },
  {
   "cell_type": "code",
   "source": [
    "n = 10"
   ],
   "metadata": {
    "execution": {
     "iopub.status.busy": "2022-08-15T01:23:23.661546Z",
     "iopub.execute_input": "2022-08-15T01:23:23.662109Z",
     "iopub.status.idle": "2022-08-15T01:23:23.668207Z",
     "shell.execute_reply.started": "2022-08-15T01:23:23.662042Z",
     "shell.execute_reply": "2022-08-15T01:23:23.666877Z"
    },
    "trusted": true,
    "pycharm": {
     "name": "#%%\n"
    }
   },
   "execution_count": 93,
   "outputs": []
  },
  {
   "cell_type": "code",
   "source": [
    "x_train = pd.concat([\n",
    "    featuring(df_train.iloc[:, 5:15]),\n",
    "    featuring(df_train.iloc[:, 15:25]),\n",
    "    featuring(df_train.iloc[:, 25:35]),\n",
    "    featuring(df_train.iloc[:, 35:45]),\n",
    "], axis=0).reset_index(drop=True)\n",
    "\n",
    "y_train = pd.concat([\n",
    "    pd.DataFrame(df_train.iloc[:, 15:25].values),\n",
    "    pd.DataFrame(df_train.iloc[:, 25:35].values),\n",
    "    pd.DataFrame(df_train.iloc[:, 35:45].values),\n",
    "    pd.DataFrame(df_train.iloc[:, 45:55].values)\n",
    "], axis=0).reset_index(drop=True)\n",
    "\n",
    "\n",
    "x_test = featuring(df_train.iloc[:, 45:55])"
   ],
   "metadata": {
    "execution": {
     "iopub.status.busy": "2022-08-15T01:23:23.669942Z",
     "iopub.execute_input": "2022-08-15T01:23:23.671067Z",
     "iopub.status.idle": "2022-08-15T01:23:34.445008Z",
     "shell.execute_reply.started": "2022-08-15T01:23:23.671012Z",
     "shell.execute_reply": "2022-08-15T01:23:34.443839Z"
    },
    "trusted": true,
    "pycharm": {
     "name": "#%%\n"
    }
   },
   "execution_count": 94,
   "outputs": []
  },
  {
   "cell_type": "code",
   "source": [
    "print(f'X TRAIN SHAPE: {x_train.shape}')\n",
    "print(f'Y TRAIN SHAPE: {y_train.shape}')\n",
    "print(f'X TEST SHAPE: {x_test.shape}')"
   ],
   "metadata": {
    "execution": {
     "iopub.status.busy": "2022-08-15T01:23:34.446226Z",
     "iopub.execute_input": "2022-08-15T01:23:34.446538Z",
     "iopub.status.idle": "2022-08-15T01:23:34.452477Z",
     "shell.execute_reply.started": "2022-08-15T01:23:34.446511Z",
     "shell.execute_reply": "2022-08-15T01:23:34.451581Z"
    },
    "trusted": true,
    "pycharm": {
     "name": "#%%\n"
    }
   },
   "execution_count": 95,
   "outputs": []
  },
  {
   "cell_type": "code",
   "source": [
    "x_train_data, x_test_data = data_sequence_to_models()\n",
    "\n",
    "y_train = y_train.stack().apply(lambda x: x if x < x_base else x_base).unstack(level=1).values"
   ],
   "metadata": {
    "execution": {
     "iopub.status.busy": "2022-08-15T01:23:34.453751Z",
     "iopub.execute_input": "2022-08-15T01:23:34.454704Z",
     "iopub.status.idle": "2022-08-15T01:23:44.245475Z",
     "shell.execute_reply.started": "2022-08-15T01:23:34.454669Z",
     "shell.execute_reply": "2022-08-15T01:23:44.244331Z"
    },
    "trusted": true,
    "pycharm": {
     "name": "#%%\n"
    }
   },
   "execution_count": 96,
   "outputs": []
  },
  {
   "cell_type": "code",
   "source": [
    "models_MLP_10 = training_MLP()"
   ],
   "metadata": {
    "execution": {
     "iopub.status.busy": "2022-08-15T01:23:44.247384Z",
     "iopub.execute_input": "2022-08-15T01:23:44.248020Z",
     "iopub.status.idle": "2022-08-15T01:33:36.290734Z",
     "shell.execute_reply.started": "2022-08-15T01:23:44.247987Z",
     "shell.execute_reply": "2022-08-15T01:33:36.289394Z"
    },
    "trusted": true,
    "pycharm": {
     "name": "#%%\n"
    }
   },
   "execution_count": 97,
   "outputs": []
  },
  {
   "cell_type": "code",
   "source": [
    "preds_MLP_10 = []\n",
    "\n",
    "for model in models_MLP_10:\n",
    "    _pred = model.predict([x_test_data])\n",
    "    preds_MLP_10.append(_pred)\n",
    "    \n",
    "pred_sub_MLP_10 = (preds_MLP_10[0] + preds_MLP_10[1] + preds_MLP_10[2] + preds_MLP_10[3] + preds_MLP_10[4]) / 5"
   ],
   "metadata": {
    "execution": {
     "iopub.status.busy": "2022-08-15T01:33:36.292509Z",
     "iopub.execute_input": "2022-08-15T01:33:36.293391Z",
     "iopub.status.idle": "2022-08-15T01:33:42.252268Z",
     "shell.execute_reply.started": "2022-08-15T01:33:36.293343Z",
     "shell.execute_reply": "2022-08-15T01:33:42.251176Z"
    },
    "trusted": true,
    "pycharm": {
     "name": "#%%\n"
    }
   },
   "execution_count": 98,
   "outputs": []
  },
  {
   "cell_type": "markdown",
   "source": [
    "# INTEGRACIÓN DE MODELOS"
   ],
   "metadata": {
    "pycharm": {
     "name": "#%% md\n"
    }
   }
  },
  {
   "cell_type": "code",
   "source": [
    "pred_sub = pred_sub_MLP_40 * 0.2 + pred_sub_MLP_20 * 0.5  + pred_sub_MLP_10 * 0.3"
   ],
   "metadata": {
    "execution": {
     "iopub.status.busy": "2022-08-15T01:33:42.254007Z",
     "iopub.execute_input": "2022-08-15T01:33:42.254951Z",
     "iopub.status.idle": "2022-08-15T01:33:42.261723Z",
     "shell.execute_reply.started": "2022-08-15T01:33:42.254904Z",
     "shell.execute_reply": "2022-08-15T01:33:42.260531Z"
    },
    "trusted": true,
    "pycharm": {
     "name": "#%%\n"
    }
   },
   "execution_count": 99,
   "outputs": []
  },
  {
   "cell_type": "code",
   "source": [
    "df_submission = pd.merge(df_train.iloc[:, :5], pd.DataFrame(pred_sub), how='inner', left_index=True, right_index=True)\n",
    "df_submission = df_submission.rename(columns={\n",
    "    0: 'SEMANA_51', \n",
    "    1: 'SEMANA_52',\n",
    "    2: 'SEMANA_53',\n",
    "    3: 'SEMANA_54',\n",
    "    4: 'SEMANA_55',\n",
    "    5: 'SEMANA_56',\n",
    "    6: 'SEMANA_57',\n",
    "    7: 'SEMANA_58',\n",
    "    8: 'SEMANA_59',\n",
    "    9: 'SEMANA_60'\n",
    "})\n",
    "\n",
    "df_submission['BASE_ID'] = df_submission['Z_MODELO'].astype(str) + '|' + df_submission['Z_PUNTO_VENTA'].astype(str) + '|' + df_submission['Z_GAMA'].astype(str)\n",
    "df_submission = df_submission.iloc[:, 5:]\n",
    "df_submission = df_submission.set_index('BASE_ID').stack().to_frame().reset_index()\n",
    "df_submission['BASE_ID'] = df_submission['BASE_ID'].astype(str) + '|' + df_submission['level_1'].astype(str)\n",
    "df_submission = df_submission.drop(['level_1'], axis=1)\n",
    "df_submission.columns = ['ID', 'Demanda']"
   ],
   "metadata": {
    "execution": {
     "iopub.status.busy": "2022-08-15T01:33:42.263029Z",
     "iopub.execute_input": "2022-08-15T01:33:42.263374Z",
     "iopub.status.idle": "2022-08-15T01:33:42.996561Z",
     "shell.execute_reply.started": "2022-08-15T01:33:42.263344Z",
     "shell.execute_reply": "2022-08-15T01:33:42.995614Z"
    },
    "trusted": true,
    "pycharm": {
     "name": "#%%\n"
    }
   },
   "execution_count": 100,
   "outputs": []
  },
  {
   "cell_type": "code",
   "source": [
    "df_submission.to_csv('entel_v1_mlp_2.csv', index=False)"
   ],
   "metadata": {
    "execution": {
     "iopub.status.busy": "2022-08-15T01:33:42.997870Z",
     "iopub.execute_input": "2022-08-15T01:33:42.998203Z",
     "iopub.status.idle": "2022-08-15T01:33:45.447958Z",
     "shell.execute_reply.started": "2022-08-15T01:33:42.998174Z",
     "shell.execute_reply": "2022-08-15T01:33:45.446807Z"
    },
    "trusted": true,
    "pycharm": {
     "name": "#%%\n"
    }
   },
   "execution_count": 101,
   "outputs": []
  },
  {
   "cell_type": "code",
   "source": [
    "p = 0.9999\n",
    "print(df_submission.Demanda.quantile(p))\n",
    "print(pd.DataFrame(y_train).stack().quantile(p))\n",
    "# 76.832"
   ],
   "metadata": {
    "execution": {
     "iopub.status.busy": "2022-08-15T01:33:45.449509Z",
     "iopub.execute_input": "2022-08-15T01:33:45.450179Z",
     "iopub.status.idle": "2022-08-15T01:33:45.504873Z",
     "shell.execute_reply.started": "2022-08-15T01:33:45.450134Z",
     "shell.execute_reply": "2022-08-15T01:33:45.503753Z"
    },
    "trusted": true,
    "pycharm": {
     "name": "#%%\n"
    }
   },
   "execution_count": 102,
   "outputs": []
  },
  {
   "cell_type": "markdown",
   "source": [
    "<a href='./entel_v1_mlp_2.csv'>download</a>"
   ],
   "metadata": {
    "pycharm": {
     "name": "#%% md\n"
    }
   }
  },
  {
   "cell_type": "code",
   "source": [
    "np.round(df_submission.Demanda).value_counts(normalize=True)"
   ],
   "metadata": {
    "execution": {
     "iopub.status.busy": "2022-08-15T01:33:45.506180Z",
     "iopub.execute_input": "2022-08-15T01:33:45.506524Z",
     "iopub.status.idle": "2022-08-15T01:33:45.523761Z",
     "shell.execute_reply.started": "2022-08-15T01:33:45.506492Z",
     "shell.execute_reply": "2022-08-15T01:33:45.522597Z"
    },
    "trusted": true,
    "pycharm": {
     "name": "#%%\n"
    }
   },
   "execution_count": 103,
   "outputs": []
  },
  {
   "cell_type": "code",
   "source": [],
   "metadata": {
    "pycharm": {
     "name": "#%%\n"
    }
   },
   "execution_count": null,
   "outputs": []
  }
 ]
}